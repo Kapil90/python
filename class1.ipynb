

'''Import Package os - to help modification on directory path
import os

'''To check the current directory path
os.getcwd()


'''To change the current directory path
os.chdir('D:\\Tetra Tutorials\\Python A-Z\\Introduction to Data Science with Python\\')


'''Type command used for to check the type of variable (like..float, int , char...)
TC=10.5
type(TC)

'''Data Type Avaiable (Int, Float, string, bool)

a=10.5
b=10
c='Kapil'
d=(b>10)

'''+ operator used to merge the string
e='abc'
f='xyz'
g=e+f

'''Import Package numpy - to perform operation using funntion like random
''' Provide alias name by as "import numpy as np"
import numpy as np
from numpy.random import randn

'''randn() function is used to generate random unique number
randn()

'''if statement to cover number of instruction in if block it used indentation
if 10>5:
	a="10 is greater than 5"
print (a)

'''print () - funcion used for to print the output of variable or text working like print statement

'''if else''''''''' 
x=5
if x>4:
    ans="Greater than 1"
else:
    ans="Less than 1"
print(x)
print(ans)

''''''else if 
if x>1: 
    ans = "Greater than 1"
else: 
    if x>=-1 and x<1:
        ans = "Between -1 and 1"
    else: 
        ans = "Less than -1"
print(x)
print(ans)

'''''elif - extended version of else if 
x=randn()
if x>1:
    ans="Greater than 1"
elif x>=-1 and x<1:
    ans="Between -1 and 1"
else:
    ans="Less than 1"
print(x)
print(ans)

