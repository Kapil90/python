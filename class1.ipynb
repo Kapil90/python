

'''Import Package os - to help modification on directory path
import os

'''To check the current directory path
os.getcwd()


'''To change the current directory path
os.chdir('D:\\Tetra Tutorials\\Python A-Z\\Introduction to Data Science with Python\\')


'''Type command used for to check the type of variable (like..float, int , char...)
TC=10.5
type(TC)

'''Data Type Avaiable (Int, Float, string, bool)

a=10.5
b=10
c='Kapil'
d=(b>10)

'''+ operator used to merge the string
e='abc'
f='xyz'
g=e+f
